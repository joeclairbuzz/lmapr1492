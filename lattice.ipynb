{
 "cells": [
  {
   "cell_type": "code",
   "execution_count": 1,
   "id": "8e41b492",
   "metadata": {},
   "outputs": [
    {
     "name": "stdout",
     "output_type": "stream",
     "text": [
      "Defaulting to user installation because normal site-packages is not writeable\n",
      "Requirement already satisfied: mp-api in ./.local/lib/python3.9/site-packages (0.40.1)\n",
      "Requirement already satisfied: setuptools in /usr/lib/python3.9/site-packages (from mp-api) (50.3.2)\n",
      "Requirement already satisfied: msgpack in /usr/local/lib64/python3.9/site-packages (from mp-api) (1.0.7)\n",
      "Requirement already satisfied: maggma>=0.57.1 in ./.local/lib/python3.9/site-packages (from mp-api) (0.63.3)\n",
      "Requirement already satisfied: pymatgen<2024.2.20,>=2022.3.7 in ./.local/lib/python3.9/site-packages (from mp-api) (2024.2.8)\n",
      "Requirement already satisfied: typing-extensions>=3.7.4.1 in /usr/local/lib/python3.9/site-packages (from mp-api) (4.8.0)\n",
      "Requirement already satisfied: requests>=2.23.0 in /usr/local/lib/python3.9/site-packages (from mp-api) (2.31.0)\n",
      "Requirement already satisfied: monty>=2023.9.25 in ./.local/lib/python3.9/site-packages (from mp-api) (2024.2.2)\n",
      "Requirement already satisfied: emmet-core>=0.78.0rc3 in ./.local/lib/python3.9/site-packages (from mp-api) (0.78.0rc4)\n",
      "Requirement already satisfied: pydantic>=2.0 in /usr/local/lib/python3.9/site-packages (from emmet-core>=0.78.0rc3->mp-api) (2.4.2)\n",
      "Requirement already satisfied: pydantic-settings>=2.0 in /usr/local/lib/python3.9/site-packages (from emmet-core>=0.78.0rc3->mp-api) (2.0.3)\n",
      "Requirement already satisfied: pybtex~=0.24 in /usr/local/lib/python3.9/site-packages (from emmet-core>=0.78.0rc3->mp-api) (0.24.0)\n",
      "Requirement already satisfied: ruamel.yaml<0.18 in /usr/local/lib/python3.9/site-packages (from maggma>=0.57.1->mp-api) (0.17.33)\n",
      "Requirement already satisfied: pymongo>=4.2.0 in /usr/local/lib64/python3.9/site-packages (from maggma>=0.57.1->mp-api) (4.5.0)\n",
      "Requirement already satisfied: mongomock>=3.10.0 in /usr/local/lib/python3.9/site-packages (from maggma>=0.57.1->mp-api) (4.1.2)\n",
      "Requirement already satisfied: pydash>=4.1.0 in /usr/local/lib/python3.9/site-packages (from maggma>=0.57.1->mp-api) (7.0.6)\n",
      "Requirement already satisfied: jsonschema>=3.1.1 in /usr/local/lib/python3.9/site-packages (from maggma>=0.57.1->mp-api) (4.19.1)\n",
      "Requirement already satisfied: tqdm>=4.19.6 in /usr/local/lib/python3.9/site-packages (from maggma>=0.57.1->mp-api) (4.66.1)\n",
      "Requirement already satisfied: mongogrant>=0.3.1 in /usr/local/lib/python3.9/site-packages (from maggma>=0.57.1->mp-api) (0.3.3)\n",
      "Requirement already satisfied: aioitertools>=0.5.1 in /usr/local/lib/python3.9/site-packages (from maggma>=0.57.1->mp-api) (0.11.0)\n",
      "Requirement already satisfied: numpy>=1.17.3 in /usr/local/lib64/python3.9/site-packages (from maggma>=0.57.1->mp-api) (1.26.0)\n",
      "Requirement already satisfied: fastapi>=0.42.0 in /usr/local/lib/python3.9/site-packages (from maggma>=0.57.1->mp-api) (0.103.2)\n",
      "Requirement already satisfied: pyzmq>=24.0.1 in /usr/local/lib64/python3.9/site-packages (from maggma>=0.57.1->mp-api) (24.0.1)\n",
      "Requirement already satisfied: dnspython>=1.16.0 in /usr/local/lib/python3.9/site-packages (from maggma>=0.57.1->mp-api) (2.4.2)\n",
      "Requirement already satisfied: sshtunnel>=0.1.5 in /usr/local/lib/python3.9/site-packages (from maggma>=0.57.1->mp-api) (0.4.0)\n",
      "Requirement already satisfied: orjson>=3.9.0 in /usr/local/lib64/python3.9/site-packages (from maggma>=0.57.1->mp-api) (3.9.7)\n",
      "Requirement already satisfied: boto3>=1.20.41 in /usr/local/lib/python3.9/site-packages (from maggma>=0.57.1->mp-api) (1.28.58)\n",
      "Requirement already satisfied: python-dateutil>=2.8.2 in /usr/local/lib/python3.9/site-packages (from maggma>=0.57.1->mp-api) (2.8.2)\n",
      "Requirement already satisfied: uvicorn>=0.18.3 in /usr/local/lib/python3.9/site-packages (from maggma>=0.57.1->mp-api) (0.23.2)\n",
      "Requirement already satisfied: matplotlib>=1.5 in /usr/local/lib64/python3.9/site-packages (from pymatgen<2024.2.20,>=2022.3.7->mp-api) (3.8.0)\n",
      "Requirement already satisfied: networkx>=2.2 in /usr/local/lib/python3.9/site-packages (from pymatgen<2024.2.20,>=2022.3.7->mp-api) (3.1)\n",
      "Requirement already satisfied: palettable>=3.1.1 in /usr/local/lib/python3.9/site-packages (from pymatgen<2024.2.20,>=2022.3.7->mp-api) (3.3.3)\n",
      "Requirement already satisfied: pandas in /usr/local/lib64/python3.9/site-packages (from pymatgen<2024.2.20,>=2022.3.7->mp-api) (2.1.1)\n",
      "Requirement already satisfied: plotly>=4.5.0 in /usr/local/lib/python3.9/site-packages (from pymatgen<2024.2.20,>=2022.3.7->mp-api) (5.17.0)\n",
      "Requirement already satisfied: scipy>=1.5.0 in /usr/local/lib64/python3.9/site-packages (from pymatgen<2024.2.20,>=2022.3.7->mp-api) (1.11.3)\n",
      "Requirement already satisfied: spglib>=2.0.2 in /usr/local/lib64/python3.9/site-packages (from pymatgen<2024.2.20,>=2022.3.7->mp-api) (2.1.0)\n",
      "Requirement already satisfied: sympy in /usr/local/lib/python3.9/site-packages (from pymatgen<2024.2.20,>=2022.3.7->mp-api) (1.12)\n",
      "Requirement already satisfied: tabulate in /usr/local/lib/python3.9/site-packages (from pymatgen<2024.2.20,>=2022.3.7->mp-api) (0.9.0)\n",
      "Requirement already satisfied: uncertainties>=3.1.4 in /usr/local/lib/python3.9/site-packages (from pymatgen<2024.2.20,>=2022.3.7->mp-api) (3.1.7)\n",
      "Requirement already satisfied: joblib in /usr/local/lib/python3.9/site-packages (from pymatgen<2024.2.20,>=2022.3.7->mp-api) (1.3.2)\n",
      "Requirement already satisfied: charset-normalizer<4,>=2 in /usr/local/lib64/python3.9/site-packages (from requests>=2.23.0->mp-api) (3.3.0)\n",
      "Requirement already satisfied: idna<4,>=2.5 in /usr/local/lib/python3.9/site-packages (from requests>=2.23.0->mp-api) (3.4)\n",
      "Requirement already satisfied: urllib3<3,>=1.21.1 in /usr/local/lib/python3.9/site-packages (from requests>=2.23.0->mp-api) (1.26.17)\n",
      "Requirement already satisfied: certifi>=2017.4.17 in /usr/local/lib/python3.9/site-packages (from requests>=2.23.0->mp-api) (2023.7.22)\n",
      "Requirement already satisfied: botocore<1.32.0,>=1.31.58 in /usr/local/lib/python3.9/site-packages (from boto3>=1.20.41->maggma>=0.57.1->mp-api) (1.31.58)\n",
      "Requirement already satisfied: jmespath<2.0.0,>=0.7.1 in /usr/local/lib/python3.9/site-packages (from boto3>=1.20.41->maggma>=0.57.1->mp-api) (1.0.1)\n",
      "Requirement already satisfied: s3transfer<0.8.0,>=0.7.0 in /usr/local/lib/python3.9/site-packages (from boto3>=1.20.41->maggma>=0.57.1->mp-api) (0.7.0)\n",
      "Requirement already satisfied: anyio<4.0.0,>=3.7.1 in /usr/local/lib/python3.9/site-packages (from fastapi>=0.42.0->maggma>=0.57.1->mp-api) (3.7.1)\n",
      "Requirement already satisfied: starlette<0.28.0,>=0.27.0 in /usr/local/lib/python3.9/site-packages (from fastapi>=0.42.0->maggma>=0.57.1->mp-api) (0.27.0)\n",
      "Requirement already satisfied: attrs>=22.2.0 in /usr/local/lib/python3.9/site-packages (from jsonschema>=3.1.1->maggma>=0.57.1->mp-api) (23.1.0)\n",
      "Requirement already satisfied: jsonschema-specifications>=2023.03.6 in /usr/local/lib/python3.9/site-packages (from jsonschema>=3.1.1->maggma>=0.57.1->mp-api) (2023.7.1)\n",
      "Requirement already satisfied: referencing>=0.28.4 in /usr/local/lib/python3.9/site-packages (from jsonschema>=3.1.1->maggma>=0.57.1->mp-api) (0.30.2)\n",
      "Requirement already satisfied: rpds-py>=0.7.1 in /usr/local/lib64/python3.9/site-packages (from jsonschema>=3.1.1->maggma>=0.57.1->mp-api) (0.10.3)\n",
      "Requirement already satisfied: contourpy>=1.0.1 in /usr/local/lib64/python3.9/site-packages (from matplotlib>=1.5->pymatgen<2024.2.20,>=2022.3.7->mp-api) (1.1.1)\n",
      "Requirement already satisfied: cycler>=0.10 in /usr/local/lib/python3.9/site-packages (from matplotlib>=1.5->pymatgen<2024.2.20,>=2022.3.7->mp-api) (0.12.0)\n",
      "Requirement already satisfied: fonttools>=4.22.0 in /usr/local/lib64/python3.9/site-packages (from matplotlib>=1.5->pymatgen<2024.2.20,>=2022.3.7->mp-api) (4.43.0)\n",
      "Requirement already satisfied: kiwisolver>=1.0.1 in /usr/local/lib64/python3.9/site-packages (from matplotlib>=1.5->pymatgen<2024.2.20,>=2022.3.7->mp-api) (1.4.5)\n",
      "Requirement already satisfied: packaging>=20.0 in /usr/local/lib/python3.9/site-packages (from matplotlib>=1.5->pymatgen<2024.2.20,>=2022.3.7->mp-api) (23.2)\n",
      "Requirement already satisfied: pillow>=6.2.0 in /usr/local/lib64/python3.9/site-packages (from matplotlib>=1.5->pymatgen<2024.2.20,>=2022.3.7->mp-api) (10.0.1)\n",
      "Requirement already satisfied: pyparsing>=2.3.1 in /usr/local/lib/python3.9/site-packages (from matplotlib>=1.5->pymatgen<2024.2.20,>=2022.3.7->mp-api) (3.1.1)\n",
      "Requirement already satisfied: importlib-resources>=3.2.0 in /usr/local/lib/python3.9/site-packages (from matplotlib>=1.5->pymatgen<2024.2.20,>=2022.3.7->mp-api) (6.1.0)\n",
      "Requirement already satisfied: Click in /usr/local/lib/python3.9/site-packages (from mongogrant>=0.3.1->maggma>=0.57.1->mp-api) (8.1.7)\n",
      "Requirement already satisfied: Flask>=1.0 in /usr/local/lib/python3.9/site-packages (from mongogrant>=0.3.1->maggma>=0.57.1->mp-api) (3.0.0)\n",
      "Requirement already satisfied: sentinels in /usr/local/lib/python3.9/site-packages (from mongomock>=3.10.0->maggma>=0.57.1->mp-api) (1.0.0)\n",
      "Requirement already satisfied: tenacity>=6.2.0 in /usr/local/lib/python3.9/site-packages (from plotly>=4.5.0->pymatgen<2024.2.20,>=2022.3.7->mp-api) (8.2.3)\n",
      "Requirement already satisfied: PyYAML>=3.01 in /usr/local/lib64/python3.9/site-packages (from pybtex~=0.24->emmet-core>=0.78.0rc3->mp-api) (6.0.1)\n",
      "Requirement already satisfied: latexcodec>=1.0.4 in /usr/local/lib/python3.9/site-packages (from pybtex~=0.24->emmet-core>=0.78.0rc3->mp-api) (2.0.1)\n",
      "Requirement already satisfied: six in /usr/local/lib/python3.9/site-packages (from pybtex~=0.24->emmet-core>=0.78.0rc3->mp-api) (1.16.0)\n",
      "Requirement already satisfied: annotated-types>=0.4.0 in /usr/local/lib/python3.9/site-packages (from pydantic>=2.0->emmet-core>=0.78.0rc3->mp-api) (0.5.0)\n",
      "Requirement already satisfied: pydantic-core==2.10.1 in /usr/local/lib64/python3.9/site-packages (from pydantic>=2.0->emmet-core>=0.78.0rc3->mp-api) (2.10.1)\n",
      "Requirement already satisfied: python-dotenv>=0.21.0 in /usr/local/lib/python3.9/site-packages (from pydantic-settings>=2.0->emmet-core>=0.78.0rc3->mp-api) (1.0.0)\n",
      "Requirement already satisfied: ruamel.yaml.clib>=0.2.7 in /usr/local/lib64/python3.9/site-packages (from ruamel.yaml<0.18->maggma>=0.57.1->mp-api) (0.2.7)\n",
      "Requirement already satisfied: paramiko>=2.7.2 in /usr/local/lib/python3.9/site-packages (from sshtunnel>=0.1.5->maggma>=0.57.1->mp-api) (3.3.1)\n",
      "Requirement already satisfied: future in /usr/local/lib/python3.9/site-packages (from uncertainties>=3.1.4->pymatgen<2024.2.20,>=2022.3.7->mp-api) (0.18.3)\n",
      "Requirement already satisfied: h11>=0.8 in /usr/local/lib/python3.9/site-packages (from uvicorn>=0.18.3->maggma>=0.57.1->mp-api) (0.14.0)\n",
      "Requirement already satisfied: pytz>=2020.1 in /usr/local/lib/python3.9/site-packages (from pandas->pymatgen<2024.2.20,>=2022.3.7->mp-api) (2023.3.post1)\n",
      "Requirement already satisfied: tzdata>=2022.1 in /usr/local/lib/python3.9/site-packages (from pandas->pymatgen<2024.2.20,>=2022.3.7->mp-api) (2023.3)\n",
      "Requirement already satisfied: mpmath>=0.19 in /usr/local/lib/python3.9/site-packages (from sympy->pymatgen<2024.2.20,>=2022.3.7->mp-api) (1.3.0)\n",
      "Requirement already satisfied: sniffio>=1.1 in /usr/local/lib/python3.9/site-packages (from anyio<4.0.0,>=3.7.1->fastapi>=0.42.0->maggma>=0.57.1->mp-api) (1.3.0)\n",
      "Requirement already satisfied: exceptiongroup in /usr/local/lib/python3.9/site-packages (from anyio<4.0.0,>=3.7.1->fastapi>=0.42.0->maggma>=0.57.1->mp-api) (1.1.3)\n",
      "Requirement already satisfied: Werkzeug>=3.0.0 in /usr/local/lib/python3.9/site-packages (from Flask>=1.0->mongogrant>=0.3.1->maggma>=0.57.1->mp-api) (3.0.0)\n",
      "Requirement already satisfied: Jinja2>=3.1.2 in /usr/local/lib/python3.9/site-packages (from Flask>=1.0->mongogrant>=0.3.1->maggma>=0.57.1->mp-api) (3.1.2)\n",
      "Requirement already satisfied: itsdangerous>=2.1.2 in /usr/local/lib/python3.9/site-packages (from Flask>=1.0->mongogrant>=0.3.1->maggma>=0.57.1->mp-api) (2.1.2)\n",
      "Requirement already satisfied: blinker>=1.6.2 in /usr/local/lib/python3.9/site-packages (from Flask>=1.0->mongogrant>=0.3.1->maggma>=0.57.1->mp-api) (1.6.2)\n",
      "Requirement already satisfied: importlib-metadata>=3.6.0 in /usr/local/lib/python3.9/site-packages (from Flask>=1.0->mongogrant>=0.3.1->maggma>=0.57.1->mp-api) (6.8.0)\n",
      "Requirement already satisfied: zipp>=3.1.0 in /usr/local/lib/python3.9/site-packages (from importlib-resources>=3.2.0->matplotlib>=1.5->pymatgen<2024.2.20,>=2022.3.7->mp-api) (3.17.0)\n",
      "Requirement already satisfied: bcrypt>=3.2 in /usr/local/lib64/python3.9/site-packages (from paramiko>=2.7.2->sshtunnel>=0.1.5->maggma>=0.57.1->mp-api) (4.0.1)\n",
      "Requirement already satisfied: cryptography>=3.3 in /usr/local/lib64/python3.9/site-packages (from paramiko>=2.7.2->sshtunnel>=0.1.5->maggma>=0.57.1->mp-api) (41.0.4)\n",
      "Requirement already satisfied: pynacl>=1.5 in /usr/local/lib64/python3.9/site-packages (from paramiko>=2.7.2->sshtunnel>=0.1.5->maggma>=0.57.1->mp-api) (1.5.0)\n",
      "Requirement already satisfied: cffi>=1.12 in /usr/local/lib64/python3.9/site-packages (from cryptography>=3.3->paramiko>=2.7.2->sshtunnel>=0.1.5->maggma>=0.57.1->mp-api) (1.16.0)\n",
      "Requirement already satisfied: MarkupSafe>=2.0 in /usr/local/lib64/python3.9/site-packages (from Jinja2>=3.1.2->Flask>=1.0->mongogrant>=0.3.1->maggma>=0.57.1->mp-api) (2.1.3)\n",
      "Requirement already satisfied: pycparser in /usr/local/lib/python3.9/site-packages (from cffi>=1.12->cryptography>=3.3->paramiko>=2.7.2->sshtunnel>=0.1.5->maggma>=0.57.1->mp-api) (2.21)\n",
      "\n",
      "\u001b[1m[\u001b[0m\u001b[34;49mnotice\u001b[0m\u001b[1;39;49m]\u001b[0m\u001b[39;49m A new release of pip is available: \u001b[0m\u001b[31;49m23.2.1\u001b[0m\u001b[39;49m -> \u001b[0m\u001b[32;49m24.0\u001b[0m\n",
      "\u001b[1m[\u001b[0m\u001b[34;49mnotice\u001b[0m\u001b[1;39;49m]\u001b[0m\u001b[39;49m To update, run: \u001b[0m\u001b[32;49mpython3.9 -m pip install --upgrade pip\u001b[0m\n"
     ]
    }
   ],
   "source": [
    "!pip install mp-api --upgrade\n",
    "import numpy as np\n",
    "from mp_api.client import MPRester\n",
    "#from pymatgen.ext.matproj import MPRester\n",
    "from pymatgen.core.operations import SymmOp\n",
    "from pymatgen.symmetry.analyzer import SpacegroupAnalyzer\n",
    "from pymatgen.electronic_structure.plotter import BSPlotter\n",
    "from pymatgen.phonon.plotter import PhononBSPlotter\n",
    "from jupyter_jsmol.pymatgen import quick_view\n",
    "from lmapr1492 import plot_brillouin_zone, get_plot_bs, get_plot_dos, get_plot_bs_and_dos, get_branch_wavevectors\n",
    "from plotly.subplots import make_subplots\n",
    "import plotly.graph_objects as go"
   ]
  },
  {
   "cell_type": "code",
   "execution_count": 2,
   "id": "68479a66",
   "metadata": {},
   "outputs": [],
   "source": [
    "mp_key = \"8ChDIqwByRyXhuV8q0dfcUVnIxLTB4o7\"\n",
    "mp_id = \"mp-961649\""
   ]
  },
  {
   "cell_type": "code",
   "execution_count": 3,
   "id": "f312daca",
   "metadata": {},
   "outputs": [
    {
     "data": {
      "application/vnd.jupyter.widget-view+json": {
       "model_id": "3a0df9a7b3c14533a65c95c66aa235a3",
       "version_major": 2,
       "version_minor": 0
      },
      "text/plain": [
       "Retrieving MaterialsDoc documents:   0%|          | 0/1 [00:00<?, ?it/s]"
      ]
     },
     "metadata": {},
     "output_type": "display_data"
    },
    {
     "data": {
      "application/vnd.jupyter.widget-view+json": {
       "model_id": "1675964339e647bf83722f00be7cd754",
       "version_major": 2,
       "version_minor": 0
      },
      "text/plain": [
       "Retrieving ElectronicStructureDoc documents:   0%|          | 0/1 [00:00<?, ?it/s]"
      ]
     },
     "metadata": {},
     "output_type": "display_data"
    },
    {
     "data": {
      "application/vnd.jupyter.widget-view+json": {
       "model_id": "f134955ec3fa4e5cbeb24c224cc07c8a",
       "version_major": 2,
       "version_minor": 0
      },
      "text/plain": [
       "Retrieving ElectronicStructureDoc documents:   0%|          | 0/1 [00:00<?, ?it/s]"
      ]
     },
     "metadata": {},
     "output_type": "display_data"
    },
    {
     "data": {
      "application/vnd.jupyter.widget-view+json": {
       "model_id": "7ae27980b48245299016d6525c49cb1b",
       "version_major": 2,
       "version_minor": 0
      },
      "text/plain": [
       "Retrieving PhononBSDOSDoc documents:   0%|          | 0/1 [00:00<?, ?it/s]"
      ]
     },
     "metadata": {},
     "output_type": "display_data"
    },
    {
     "data": {
      "application/vnd.jupyter.widget-view+json": {
       "model_id": "d4ad8b490c604c64b288f36ec85df301",
       "version_major": 2,
       "version_minor": 0
      },
      "text/plain": [
       "Retrieving PhononBSDOSDoc documents:   0%|          | 0/1 [00:00<?, ?it/s]"
      ]
     },
     "metadata": {},
     "output_type": "display_data"
    }
   ],
   "source": [
    "with MPRester(mp_key) as m:\n",
    "    #récupération de la structure \n",
    "    prim_struc = m.get_structure_by_material_id(mp_id)\n",
    "    el_bs = m.get_bandstructure_by_material_id(mp_id)\n",
    "    el_dos = m.get_dos_by_material_id(mp_id)\n",
    "    ph_bs = m.get_phonon_bandstructure_by_material_id(mp_id)\n",
    "    ph_dos = m.get_phonon_dos_by_material_id(mp_id)\n",
    "conv_struc = SpacegroupAnalyzer(prim_struc).get_conventional_standard_structure()\n",
    "symmops = SpacegroupAnalyzer(conv_struc).get_space_group_operations()"
   ]
  },
  {
   "cell_type": "code",
   "execution_count": 21,
   "id": "6510cf80",
   "metadata": {},
   "outputs": [
    {
     "name": "stdout",
     "output_type": "stream",
     "text": [
      "Vecteurs du réseau direct de la structure ZrFeTe:\n",
      "\n",
      "Vecteurs de bases du réseau direct :\n",
      "a =  [0.       3.061458 3.061458]\n",
      "b =  [3.061458 0.       3.061458]\n",
      "c =  [3.061458 3.061458 0.      ]\n",
      "\n",
      "Normes (pour la maille primitive) des vecteurs de base en Ångström :\n",
      "\n",
      "a = 4.329555424235611\n",
      "b = 4.329555424235611\n",
      "c = 4.329555424235611\n",
      "\n",
      "Vecteurs du réseau réciproque de la structure ZrFeTe:\n",
      "\n",
      "Vecteurs de bases du réseau direct :\n",
      "a =  [-1.02617532  1.02617532  1.02617532]\n",
      "b =  [ 1.02617532 -1.02617532  1.02617532]\n",
      "c =  [ 1.02617532  1.02617532 -1.02617532]\n",
      "\n",
      "Normes des vecteurs de base en Ångström :\n",
      "\n",
      "a = 1.7773877978083166\n",
      "b = 1.7773877978083166\n",
      "c = 1.7773877978083166\n",
      "\n",
      "Type de maille : cubic\n",
      "Type de système cristallin :  cubic\n",
      "Groupe ponctuel : -43m\n"
     ]
    }
   ],
   "source": [
    "#vecteurs de base de ses réseaux directs\n",
    "#récupération des vecteurs du réseau direct de notre structure\n",
    "#utilisation de pymatgen.core.operations\n",
    "\n",
    "lattice_d = prim_struc.lattice\n",
    "normes_d = lattice_d.abc\n",
    "angles_d = lattice_d.angles\n",
    "matrice = lattice_d.matrix\n",
    "\n",
    "print(\"Vecteurs du réseau direct de la structure ZrFeTe:\\n\")\n",
    "print(\"Vecteurs de bases du réseau direct :\")\n",
    "print(\"a = \", matrice[0])\n",
    "print(\"b = \", matrice[1])\n",
    "print(\"c = \", matrice[2])\n",
    "print(\"\")\n",
    "print(\"Normes (pour la maille primitive) des vecteurs de base en Ångström :\\n\")\n",
    "print(\"a = {}\\nb = {}\\nc = {}\\n\".format(normes_d[0], normes_d[1], normes_d[2]))\n",
    "\n",
    "#information concernant son réseau réciproque\n",
    "\n",
    "\n",
    "lattice_r = lattice_d.reciprocal_lattice\n",
    "normes_r = lattice_r.abc\n",
    "angles_r = lattice_r.angles\n",
    "matrice_r = lattice_r.matrix\n",
    "\n",
    "print(\"Vecteurs du réseau réciproque de la structure ZrFeTe:\\n\")\n",
    "print(\"Vecteurs de bases du réseau direct :\")\n",
    "print(\"a = \", matrice_r[0])\n",
    "print(\"b = \", matrice_r[1])\n",
    "print(\"c = \", matrice_r[2])\n",
    "print(\"\")\n",
    "print(\"Normes des vecteurs de base en Ångström :\\n\")\n",
    "print(\"a = {}\\nb = {}\\nc = {}\\n\".format(normes_r[0], normes_r[1], normes_r[2]))\n",
    "\n",
    "\n",
    "#type de maille de la structure \n",
    "\n",
    "space_struc_info = SpacegroupAnalyzer(prim_struc)\n",
    "type_maille = space_struc_info.get_lattice_type()\n",
    "print(\"Type de maille :\",type_maille)\n",
    "\n",
    "#système cristallin de la structure\n",
    "\n",
    "sys_crist = space_struc_info.get_crystal_system()\n",
    "print(\"Type de système cristallin : \", sys_crist)\n",
    "\n",
    "#groupe ponctuel de la strcuture \n",
    "\n",
    "grp_ponc = space_struc_info.get_point_group_symbol()\n",
    "print(\"Groupe ponctuel :\", grp_ponc)"
   ]
  },
  {
   "cell_type": "markdown",
   "id": "8f2169bb",
   "metadata": {},
   "source": [
    "# Structure symmetry"
   ]
  },
  {
   "cell_type": "code",
   "execution_count": 5,
   "id": "0067bf00",
   "metadata": {},
   "outputs": [
    {
     "data": {
      "application/vnd.jupyter.widget-view+json": {
       "model_id": "7449108492194f06ba4a7c0e030b30ea",
       "version_major": 2,
       "version_minor": 0
      },
      "text/plain": [
       "JsmolView(layout=Layout(align_self='stretch', height='400px'))"
      ]
     },
     "metadata": {},
     "output_type": "display_data"
    }
   ],
   "source": [
    "i_atom = 7\n",
    "i_symmop = 2\n",
    "\n",
    "view = quick_view(prim_struc, \"packed\", conventional = True)\n",
    "display(view)\n",
    "view.script('select antimony; color lightsalmon')\n",
    "view.script('select sodium; color gold')\n",
    "view.script('select lithium; color palegreen')\n",
    "view.script('draw SYMOP ' + str(i_symmop) + ' {atomno = ' + str(i_atom) + '}')"
   ]
  },
  {
   "cell_type": "code",
   "execution_count": null,
   "id": "3bb4c1a7",
   "metadata": {},
   "outputs": [],
   "source": [
    "symmop = symmops[i_symmop - 1]\n",
    "print(symmop)"
   ]
  },
  {
   "cell_type": "code",
   "execution_count": null,
   "id": "86b95c2a",
   "metadata": {},
   "outputs": [],
   "source": [
    "pos_init = conv_struc.sites[i_atom -1].frac_coords\n",
    "print(pos_init)"
   ]
  },
  {
   "cell_type": "code",
   "execution_count": null,
   "id": "de99dd5b",
   "metadata": {},
   "outputs": [],
   "source": [
    "pos_final = symmop.operate(pos_init)\n",
    "print(pos_final)"
   ]
  },
  {
   "cell_type": "code",
   "execution_count": null,
   "id": "3e0e96e2",
   "metadata": {},
   "outputs": [],
   "source": [
    "for k_atom, site in enumerate(conv_struc.sites):\n",
    "    if np.linalg.norm((site.frac_coords - pos_final)%1) < 1e-6:\n",
    "        j_atom = k_atom + 1\n",
    "print(j_atom, conv_struc.sites[j_atom -1].frac_coords)"
   ]
  },
  {
   "cell_type": "markdown",
   "id": "bcba4360",
   "metadata": {},
   "source": [
    "# Brillouin zone"
   ]
  },
  {
   "cell_type": "code",
   "execution_count": null,
   "id": "78549b9a",
   "metadata": {},
   "outputs": [],
   "source": [
    "plot_brillouin_zone(el_bs.structure)"
   ]
  },
  {
   "cell_type": "markdown",
   "id": "bf478647",
   "metadata": {},
   "source": [
    "# Electronic bandstructure"
   ]
  },
  {
   "cell_type": "code",
   "execution_count": null,
   "id": "3a36c405",
   "metadata": {
    "scrolled": false
   },
   "outputs": [],
   "source": [
    "fig_el_bs = get_plot_bs(el_bs, plot_range=[-4,7])\n",
    "fig_el_bs.show()"
   ]
  },
  {
   "cell_type": "code",
   "execution_count": null,
   "id": "39d211b8",
   "metadata": {},
   "outputs": [],
   "source": [
    "fig_el_dos = get_plot_dos(el_dos, plot_range=[-4,7])\n",
    "fig_el_dos.show()"
   ]
  },
  {
   "cell_type": "code",
   "execution_count": null,
   "id": "21d878b7",
   "metadata": {},
   "outputs": [],
   "source": [
    "fig_el_bs_and_dos = get_plot_bs_and_dos(el_bs, el_dos, plot_range=[-4,7])\n",
    "fig_el_bs_and_dos.show()"
   ]
  },
  {
   "cell_type": "code",
   "execution_count": null,
   "id": "0a0b149a",
   "metadata": {},
   "outputs": [],
   "source": [
    "xvals = fig_el_bs.to_dict()[\"data\"][0][\"x\"]\n",
    "yvals_vbm = fig_el_bs.to_dict()[\"data\"][2][\"y\"]\n",
    "yvals_cbm = fig_el_bs.to_dict()[\"data\"][3][\"y\"]"
   ]
  },
  {
   "cell_type": "code",
   "execution_count": null,
   "id": "6c4c6522",
   "metadata": {},
   "outputs": [],
   "source": [
    "xvals_band_edges = []\n",
    "yvals_band_edges = []\n",
    "for i in el_bs.get_vbm()[\"kpoint_index\"]:\n",
    "    xvals_band_edges.append(xvals[i])\n",
    "    yvals_band_edges.append(yvals_vbm[i])\n",
    "for i in el_bs.get_cbm()[\"kpoint_index\"]:\n",
    "    xvals_band_edges.append(xvals[i])\n",
    "    yvals_band_edges.append(yvals_cbm[i])"
   ]
  },
  {
   "cell_type": "code",
   "execution_count": null,
   "id": "6369c700",
   "metadata": {},
   "outputs": [],
   "source": [
    "for i in el_bs.get_vbm()[\"kpoint_index\"]:\n",
    "    scatter = go.Scatter(\n",
    "        x = xvals_band_edges, y = yvals_band_edges,\n",
    "        mode = \"markers\", marker = dict(color=\"black\"),\n",
    "        showlegend=False)\n",
    "    fig_el_bs.add_trace(scatter)\n",
    "fig_el_bs.update_layout(xaxis_range = [xvals[0], xvals[-1]])\n",
    "fig_el_bs.show()"
   ]
  },
  {
   "cell_type": "code",
   "execution_count": null,
   "id": "e3b79d35",
   "metadata": {},
   "outputs": [],
   "source": [
    "el_bs.get_vbm()"
   ]
  },
  {
   "cell_type": "code",
   "execution_count": null,
   "id": "59ef7f55",
   "metadata": {},
   "outputs": [],
   "source": [
    "el_bs.get_cbm()"
   ]
  },
  {
   "cell_type": "code",
   "execution_count": null,
   "id": "74af579b",
   "metadata": {},
   "outputs": [],
   "source": [
    "i_vbm = list(el_bs.get_vbm()['band_index'].values())[-1][-1]\n",
    "i_cbm = list(el_bs.get_cbm()['band_index'].values())[-1][0]\n",
    "print(\"VBM:\", i_vbm, \"CBM:\", i_cbm)"
   ]
  },
  {
   "cell_type": "markdown",
   "id": "38251e04",
   "metadata": {},
   "source": [
    "# Phonon bandstructure"
   ]
  },
  {
   "cell_type": "code",
   "execution_count": null,
   "id": "b188c1d9",
   "metadata": {},
   "outputs": [],
   "source": [
    "fig_ph_bs = get_plot_bs(ph_bs)\n",
    "fig_ph_bs.update_yaxes(rangemode=\"tozero\")\n",
    "fig_ph_bs.show()"
   ]
  },
  {
   "cell_type": "code",
   "execution_count": null,
   "id": "868503cc",
   "metadata": {},
   "outputs": [],
   "source": [
    "fig_ph_dos = get_plot_dos(ph_dos)\n",
    "fig_ph_dos.show()"
   ]
  },
  {
   "cell_type": "code",
   "execution_count": null,
   "id": "8e2103b6",
   "metadata": {},
   "outputs": [],
   "source": [
    "fig_ph_bs_and_dos = get_plot_bs_and_dos(ph_bs, ph_dos)\n",
    "fig_ph_bs_and_dos.update_yaxes(rangemode=\"tozero\")\n",
    "fig_ph_bs_and_dos.show()"
   ]
  },
  {
   "cell_type": "markdown",
   "id": "aac8fd65",
   "metadata": {},
   "source": [
    "# Distances in the Brillouin zone"
   ]
  },
  {
   "cell_type": "code",
   "execution_count": null,
   "id": "0ffa6539",
   "metadata": {},
   "outputs": [],
   "source": [
    "xvals = fig_el_bs.to_dict()[\"data\"][0][\"x\"]\n",
    "for i_branch, branch in enumerate(el_bs.branches):\n",
    "    wavevectors = get_branch_wavevectors(el_bs, i_branch)\n",
    "    v0 = np.dot(np.transpose(el_bs.structure.lattice.reciprocal_lattice.matrix), wavevectors[0])\n",
    "    v1 = np.dot(np.transpose(el_bs.structure.lattice.reciprocal_lattice.matrix), wavevectors[1])\n",
    "    print(\"{0:3d} {1:9.6f} {2:9.6f}\".format(i_branch, np.linalg.norm(v1-v0), xvals[branch[\"end_index\"]]-xvals[branch[\"start_index\"]]))"
   ]
  },
  {
   "cell_type": "code",
   "execution_count": null,
   "id": "8431d93b",
   "metadata": {},
   "outputs": [],
   "source": [
    "xvals = fig_ph_bs.to_dict()[\"data\"][0][\"x\"]\n",
    "for i_branch, branch in enumerate(ph_bs.branches):\n",
    "    wavevectors = get_branch_wavevectors(ph_bs, i_branch)\n",
    "    v0 = np.dot(np.transpose(ph_bs.structure.lattice.reciprocal_lattice.matrix), wavevectors[0])\n",
    "    v1 = np.dot(np.transpose(ph_bs.structure.lattice.reciprocal_lattice.matrix), wavevectors[1])\n",
    "    print(\"{0:3d} {1:9.6f} {2:9.6f}\".format(i_branch, np.linalg.norm(v1-v0), xvals[branch[\"end_index\"]]-xvals[branch[\"start_index\"]]))"
   ]
  },
  {
   "cell_type": "code",
   "execution_count": null,
   "id": "6abbe524",
   "metadata": {},
   "outputs": [],
   "source": [
    "el_bs.structure"
   ]
  },
  {
   "cell_type": "code",
   "execution_count": null,
   "id": "58bfe774",
   "metadata": {},
   "outputs": [],
   "source": [
    "ph_bs.structure"
   ]
  },
  {
   "cell_type": "code",
   "execution_count": null,
   "id": "494447a3",
   "metadata": {},
   "outputs": [],
   "source": [
    "prim_struc"
   ]
  },
  {
   "cell_type": "markdown",
   "id": "f9846dd1",
   "metadata": {},
   "source": [
    "# Specific heat"
   ]
  },
  {
   "cell_type": "code",
   "execution_count": null,
   "id": "4f1267a2",
   "metadata": {},
   "outputs": [],
   "source": [
    "temperatures = np.arange(0,1000,5)\n",
    "R = 8.314\n",
    "nat = len(prim_struc)\n",
    "ph_cv = np.array([ph_dos.cv(temperatures[i]) for i in range(len(temperatures))])/(3*nat*R)"
   ]
  },
  {
   "cell_type": "code",
   "execution_count": null,
   "id": "023dcb41",
   "metadata": {},
   "outputs": [],
   "source": [
    "fig = go.Figure()\n",
    "scatter = go.Scatter(x=temperatures, y=ph_cv)\n",
    "fig.add_trace(scatter)\n",
    "fig.add_hline(y=1, line_width=2, line_color=\"red\")\n",
    "fig.update_layout(\n",
    "    xaxis =  {'mirror': True, 'showgrid': False, 'ticks': 'inside', 'ticklen':10},\n",
    "    yaxis =  {'mirror': True, 'showgrid': False, 'ticks': 'inside', 'ticklen':10},\n",
    "    xaxis_title = \"Temperature\",\n",
    "    yaxis_title = \"$C_v\\,/\\,3N_{\\!at}R$\",        \n",
    ")\n",
    "fig.show()"
   ]
  },
  {
   "cell_type": "code",
   "execution_count": null,
   "id": "20e034ec",
   "metadata": {},
   "outputs": [],
   "source": []
  },
  {
   "cell_type": "code",
   "execution_count": null,
   "id": "a1a29122",
   "metadata": {
    "scrolled": false
   },
   "outputs": [],
   "source": []
  },
  {
   "cell_type": "code",
   "execution_count": null,
   "id": "fe01bc60",
   "metadata": {},
   "outputs": [],
   "source": []
  }
 ],
 "metadata": {
  "kernelspec": {
   "display_name": "Python 3 (ipykernel)",
   "language": "python",
   "name": "python3"
  },
  "language_info": {
   "codemirror_mode": {
    "name": "ipython",
    "version": 3
   },
   "file_extension": ".py",
   "mimetype": "text/x-python",
   "name": "python",
   "nbconvert_exporter": "python",
   "pygments_lexer": "ipython3",
   "version": "3.9.13"
  }
 },
 "nbformat": 4,
 "nbformat_minor": 5
}
