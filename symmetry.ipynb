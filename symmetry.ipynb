{
 "cells": [
  {
   "cell_type": "code",
   "execution_count": 3,
   "id": "d69e501f",
   "metadata": {},
   "outputs": [],
   "source": [
    "import numpy as np\n",
    "from mp_api.client import MPRester\n",
    "from pymatgen.core.operations import SymmOp\n",
    "from pymatgen.symmetry.analyzer import SpacegroupAnalyzer\n",
    "from pymatgen.electronic_structure.plotter import BSPlotter\n",
    "from pymatgen.phonon.plotter import PhononBSPlotter\n",
    "from jupyter_jsmol.pymatgen import quick_view\n",
    "from lmapr1492 import plot_brillouin_zone, get_plot_bs, get_plot_dos, get_plot_bs_and_dos, get_branch_wavevectors\n",
    "from plotly.subplots import make_subplots\n",
    "import plotly.graph_objects as go\n",
    "from IPython.display import Image"
   ]
  },
  {
   "cell_type": "code",
   "execution_count": 4,
   "id": "b96812ec",
   "metadata": {},
   "outputs": [],
   "source": [
    "mp_key = \"8ChDIqwByRyXhuV8q0dfcUVnIxLTB4o7\"\n",
    "mp_id = \"mp-961649\""
   ]
  },
  {
   "cell_type": "code",
   "execution_count": 5,
   "id": "788f9e98",
   "metadata": {},
   "outputs": [
    {
     "data": {
      "application/vnd.jupyter.widget-view+json": {
       "model_id": "ec5c937a183d472fb5298cea38063d7f",
       "version_major": 2,
       "version_minor": 0
      },
      "text/plain": [
       "Retrieving MaterialsDoc documents:   0%|          | 0/1 [00:00<?, ?it/s]"
      ]
     },
     "metadata": {},
     "output_type": "display_data"
    },
    {
     "data": {
      "application/vnd.jupyter.widget-view+json": {
       "model_id": "a69c842e8b7a4332a3b96ae13c352307",
       "version_major": 2,
       "version_minor": 0
      },
      "text/plain": [
       "Retrieving ElectronicStructureDoc documents:   0%|          | 0/1 [00:00<?, ?it/s]"
      ]
     },
     "metadata": {},
     "output_type": "display_data"
    },
    {
     "data": {
      "application/vnd.jupyter.widget-view+json": {
       "model_id": "619971d9301b48f7bb35524dfdfc806a",
       "version_major": 2,
       "version_minor": 0
      },
      "text/plain": [
       "Retrieving ElectronicStructureDoc documents:   0%|          | 0/1 [00:00<?, ?it/s]"
      ]
     },
     "metadata": {},
     "output_type": "display_data"
    },
    {
     "data": {
      "application/vnd.jupyter.widget-view+json": {
       "model_id": "c745c46f5218498b97fc374b590dc9aa",
       "version_major": 2,
       "version_minor": 0
      },
      "text/plain": [
       "Retrieving PhononBSDOSDoc documents:   0%|          | 0/1 [00:00<?, ?it/s]"
      ]
     },
     "metadata": {},
     "output_type": "display_data"
    },
    {
     "data": {
      "application/vnd.jupyter.widget-view+json": {
       "model_id": "da67f05547434923a8b5a8815ce539d4",
       "version_major": 2,
       "version_minor": 0
      },
      "text/plain": [
       "Retrieving PhononBSDOSDoc documents:   0%|          | 0/1 [00:00<?, ?it/s]"
      ]
     },
     "metadata": {},
     "output_type": "display_data"
    }
   ],
   "source": [
    "with MPRester(mp_key) as m:\n",
    "    #récupération de la structure \n",
    "    prim_struc = m.get_structure_by_material_id(mp_id)\n",
    "    el_bs = m.get_bandstructure_by_material_id(mp_id)\n",
    "    el_dos = m.get_dos_by_material_id(mp_id)\n",
    "    ph_bs = m.get_phonon_bandstructure_by_material_id(mp_id)\n",
    "    ph_dos = m.get_phonon_dos_by_material_id(mp_id)\n",
    "conv_struc = SpacegroupAnalyzer(prim_struc).get_conventional_standard_structure() #conventionelle\n",
    "symmops = SpacegroupAnalyzer(conv_struc).get_space_group_operations() #operations du groupe"
   ]
  },
  {
   "cell_type": "code",
   "execution_count": 85,
   "id": "d110de95",
   "metadata": {},
   "outputs": [
    {
     "name": "stdout",
     "output_type": "stream",
     "text": [
      "F-43m (216) spacegroup\n",
      "[SymmOp(affine_matrix=array([[1., 0., 0., 0.],\n",
      "       [0., 1., 0., 0.],\n",
      "       [0., 0., 1., 0.],\n",
      "       [0., 0., 0., 1.]])), SymmOp(affine_matrix=array([[1., 0., 0., 0.],\n",
      "       [0., 1., 0., 0.],\n",
      "       [0., 0., 1., 0.],\n",
      "       [0., 0., 0., 1.]])), SymmOp(affine_matrix=array([[ 0.,  1.,  0.,  0.],\n",
      "       [ 0.,  0.,  1.,  0.],\n",
      "       [-1., -1., -1.,  0.],\n",
      "       [ 0.,  0.,  0.,  1.]])), SymmOp(affine_matrix=array([[ 0.,  1.,  0.,  0.],\n",
      "       [ 0.,  0.,  1.,  0.],\n",
      "       [-1., -1., -1.,  0.],\n",
      "       [ 0.,  0.,  0.,  1.]])), SymmOp(affine_matrix=array([[ 0.,  0.,  1.,  0.],\n",
      "       [-1., -1., -1.,  0.],\n",
      "       [ 1.,  0.,  0.,  0.],\n",
      "       [ 0.,  0.,  0.,  1.]])), SymmOp(affine_matrix=array([[ 0.,  0.,  1.,  0.],\n",
      "       [-1., -1., -1.,  0.],\n",
      "       [ 1.,  0.,  0.,  0.],\n",
      "       [ 0.,  0.,  0.,  1.]])), SymmOp(affine_matrix=array([[-1., -1., -1.,  0.],\n",
      "       [ 1.,  0.,  0.,  0.],\n",
      "       [ 0.,  1.,  0.,  0.],\n",
      "       [ 0.,  0.,  0.,  1.]])), SymmOp(affine_matrix=array([[-1., -1., -1.,  0.],\n",
      "       [ 1.,  0.,  0.,  0.],\n",
      "       [ 0.,  1.,  0.,  0.],\n",
      "       [ 0.,  0.,  0.,  1.]])), SymmOp(affine_matrix=array([[-1., -1., -1.,  0.],\n",
      "       [ 0.,  0.,  1.,  0.],\n",
      "       [ 0.,  1.,  0.,  0.],\n",
      "       [ 0.,  0.,  0.,  1.]])), SymmOp(affine_matrix=array([[-1., -1., -1.,  0.],\n",
      "       [ 0.,  0.,  1.,  0.],\n",
      "       [ 0.,  1.,  0.,  0.],\n",
      "       [ 0.,  0.,  0.,  1.]])), SymmOp(affine_matrix=array([[ 1.,  0.,  0.,  0.],\n",
      "       [-1., -1., -1.,  0.],\n",
      "       [ 0.,  0.,  1.,  0.],\n",
      "       [ 0.,  0.,  0.,  1.]])), SymmOp(affine_matrix=array([[ 1.,  0.,  0.,  0.],\n",
      "       [-1., -1., -1.,  0.],\n",
      "       [ 0.,  0.,  1.,  0.],\n",
      "       [ 0.,  0.,  0.,  1.]])), SymmOp(affine_matrix=array([[ 0.,  1.,  0.,  0.],\n",
      "       [ 1.,  0.,  0.,  0.],\n",
      "       [-1., -1., -1.,  0.],\n",
      "       [ 0.,  0.,  0.,  1.]])), SymmOp(affine_matrix=array([[ 0.,  1.,  0.,  0.],\n",
      "       [ 1.,  0.,  0.,  0.],\n",
      "       [-1., -1., -1.,  0.],\n",
      "       [ 0.,  0.,  0.,  1.]])), SymmOp(affine_matrix=array([[0., 0., 1., 0.],\n",
      "       [0., 1., 0., 0.],\n",
      "       [1., 0., 0., 0.],\n",
      "       [0., 0., 0., 1.]])), SymmOp(affine_matrix=array([[0., 0., 1., 0.],\n",
      "       [0., 1., 0., 0.],\n",
      "       [1., 0., 0., 0.],\n",
      "       [0., 0., 0., 1.]])), SymmOp(affine_matrix=array([[-1., -1., -1.,  0.],\n",
      "       [ 1.,  0.,  0.,  0.],\n",
      "       [ 0.,  0.,  1.,  0.],\n",
      "       [ 0.,  0.,  0.,  1.]])), SymmOp(affine_matrix=array([[-1., -1., -1.,  0.],\n",
      "       [ 1.,  0.,  0.,  0.],\n",
      "       [ 0.,  0.,  1.,  0.],\n",
      "       [ 0.,  0.,  0.,  1.]])), SymmOp(affine_matrix=array([[ 1.,  0.,  0.,  0.],\n",
      "       [ 0.,  1.,  0.,  0.],\n",
      "       [-1., -1., -1.,  0.],\n",
      "       [ 0.,  0.,  0.,  1.]])), SymmOp(affine_matrix=array([[ 1.,  0.,  0.,  0.],\n",
      "       [ 0.,  1.,  0.,  0.],\n",
      "       [-1., -1., -1.,  0.],\n",
      "       [ 0.,  0.,  0.,  1.]])), SymmOp(affine_matrix=array([[0., 1., 0., 0.],\n",
      "       [0., 0., 1., 0.],\n",
      "       [1., 0., 0., 0.],\n",
      "       [0., 0., 0., 1.]])), SymmOp(affine_matrix=array([[0., 1., 0., 0.],\n",
      "       [0., 0., 1., 0.],\n",
      "       [1., 0., 0., 0.],\n",
      "       [0., 0., 0., 1.]])), SymmOp(affine_matrix=array([[ 0.,  0.,  1.,  0.],\n",
      "       [-1., -1., -1.,  0.],\n",
      "       [ 0.,  1.,  0.,  0.],\n",
      "       [ 0.,  0.,  0.,  1.]])), SymmOp(affine_matrix=array([[ 0.,  0.,  1.,  0.],\n",
      "       [-1., -1., -1.,  0.],\n",
      "       [ 0.,  1.,  0.,  0.],\n",
      "       [ 0.,  0.,  0.,  1.]])), SymmOp(affine_matrix=array([[ 1.,  0.,  0.,  0.],\n",
      "       [-1., -1., -1.,  0.],\n",
      "       [ 0.,  1.,  0.,  0.],\n",
      "       [ 0.,  0.,  0.,  1.]])), SymmOp(affine_matrix=array([[ 1.,  0.,  0.,  0.],\n",
      "       [-1., -1., -1.,  0.],\n",
      "       [ 0.,  1.,  0.,  0.],\n",
      "       [ 0.,  0.,  0.,  1.]])), SymmOp(affine_matrix=array([[0., 1., 0., 0.],\n",
      "       [1., 0., 0., 0.],\n",
      "       [0., 0., 1., 0.],\n",
      "       [0., 0., 0., 1.]])), SymmOp(affine_matrix=array([[0., 1., 0., 0.],\n",
      "       [1., 0., 0., 0.],\n",
      "       [0., 0., 1., 0.],\n",
      "       [0., 0., 0., 1.]])), SymmOp(affine_matrix=array([[ 0.,  0.,  1.,  0.],\n",
      "       [ 0.,  1.,  0.,  0.],\n",
      "       [-1., -1., -1.,  0.],\n",
      "       [ 0.,  0.,  0.,  1.]])), SymmOp(affine_matrix=array([[ 0.,  0.,  1.,  0.],\n",
      "       [ 0.,  1.,  0.,  0.],\n",
      "       [-1., -1., -1.,  0.],\n",
      "       [ 0.,  0.,  0.,  1.]])), SymmOp(affine_matrix=array([[-1., -1., -1.,  0.],\n",
      "       [ 0.,  0.,  1.,  0.],\n",
      "       [ 1.,  0.,  0.,  0.],\n",
      "       [ 0.,  0.,  0.,  1.]])), SymmOp(affine_matrix=array([[-1., -1., -1.,  0.],\n",
      "       [ 0.,  0.,  1.,  0.],\n",
      "       [ 1.,  0.,  0.,  0.],\n",
      "       [ 0.,  0.,  0.,  1.]])), SymmOp(affine_matrix=array([[ 0.,  1.,  0.,  0.],\n",
      "       [-1., -1., -1.,  0.],\n",
      "       [ 0.,  0.,  1.,  0.],\n",
      "       [ 0.,  0.,  0.,  1.]])), SymmOp(affine_matrix=array([[ 0.,  1.,  0.,  0.],\n",
      "       [-1., -1., -1.,  0.],\n",
      "       [ 0.,  0.,  1.,  0.],\n",
      "       [ 0.,  0.,  0.,  1.]])), SymmOp(affine_matrix=array([[ 0.,  0.,  1.,  0.],\n",
      "       [ 1.,  0.,  0.,  0.],\n",
      "       [-1., -1., -1.,  0.],\n",
      "       [ 0.,  0.,  0.,  1.]])), SymmOp(affine_matrix=array([[ 0.,  0.,  1.,  0.],\n",
      "       [ 1.,  0.,  0.,  0.],\n",
      "       [-1., -1., -1.,  0.],\n",
      "       [ 0.,  0.,  0.,  1.]])), SymmOp(affine_matrix=array([[-1., -1., -1.,  0.],\n",
      "       [ 0.,  1.,  0.,  0.],\n",
      "       [ 1.,  0.,  0.,  0.],\n",
      "       [ 0.,  0.,  0.,  1.]])), SymmOp(affine_matrix=array([[-1., -1., -1.,  0.],\n",
      "       [ 0.,  1.,  0.,  0.],\n",
      "       [ 1.,  0.,  0.,  0.],\n",
      "       [ 0.,  0.,  0.,  1.]])), SymmOp(affine_matrix=array([[1., 0., 0., 0.],\n",
      "       [0., 0., 1., 0.],\n",
      "       [0., 1., 0., 0.],\n",
      "       [0., 0., 0., 1.]])), SymmOp(affine_matrix=array([[1., 0., 0., 0.],\n",
      "       [0., 0., 1., 0.],\n",
      "       [0., 1., 0., 0.],\n",
      "       [0., 0., 0., 1.]])), SymmOp(affine_matrix=array([[0., 0., 1., 0.],\n",
      "       [1., 0., 0., 0.],\n",
      "       [0., 1., 0., 0.],\n",
      "       [0., 0., 0., 1.]])), SymmOp(affine_matrix=array([[0., 0., 1., 0.],\n",
      "       [1., 0., 0., 0.],\n",
      "       [0., 1., 0., 0.],\n",
      "       [0., 0., 0., 1.]])), SymmOp(affine_matrix=array([[-1., -1., -1.,  0.],\n",
      "       [ 0.,  1.,  0.,  0.],\n",
      "       [ 0.,  0.,  1.,  0.],\n",
      "       [ 0.,  0.,  0.,  1.]])), SymmOp(affine_matrix=array([[-1., -1., -1.,  0.],\n",
      "       [ 0.,  1.,  0.,  0.],\n",
      "       [ 0.,  0.,  1.,  0.],\n",
      "       [ 0.,  0.,  0.,  1.]])), SymmOp(affine_matrix=array([[ 1.,  0.,  0.,  0.],\n",
      "       [ 0.,  0.,  1.,  0.],\n",
      "       [-1., -1., -1.,  0.],\n",
      "       [ 0.,  0.,  0.,  1.]])), SymmOp(affine_matrix=array([[ 1.,  0.,  0.,  0.],\n",
      "       [ 0.,  0.,  1.,  0.],\n",
      "       [-1., -1., -1.,  0.],\n",
      "       [ 0.,  0.,  0.,  1.]])), SymmOp(affine_matrix=array([[ 0.,  1.,  0.,  0.],\n",
      "       [-1., -1., -1.,  0.],\n",
      "       [ 1.,  0.,  0.,  0.],\n",
      "       [ 0.,  0.,  0.,  1.]])), SymmOp(affine_matrix=array([[ 0.,  1.,  0.,  0.],\n",
      "       [-1., -1., -1.,  0.],\n",
      "       [ 1.,  0.,  0.,  0.],\n",
      "       [ 0.,  0.,  0.,  1.]]))]\n",
      "48\n"
     ]
    }
   ],
   "source": [
    "print(symmops) #permet de connaitre le groupe spatial\n",
    "analyse=SpacegroupAnalyzer(prim_struc)\n",
    "print(analyse.get_symmetry_operations()) #permet d'avoir les opérations de symétrie \n",
    "listeofsym = analyse.get_symmetry_operations()\n",
    "print(len(listeofsym))"
   ]
  },
  {
   "cell_type": "markdown",
   "id": "2a5d2845",
   "metadata": {},
   "source": [
    "Ici on obtient un des 230 groupes spatiaux ,en l'occurence ici un groupe symmorphique (donc sans composante de translation), avec le type de maille cubique, c'est une combinaison des 32 groupes ponctuels avec les différents types de maille."
   ]
  },
  {
   "cell_type": "code",
   "execution_count": 133,
   "id": "9f51ac84",
   "metadata": {},
   "outputs": [
    {
     "name": "stdout",
     "output_type": "stream",
     "text": [
      "[PeriodicSite: Zr (3.061, 0.0, 1.875e-16) [0.5, 0.0, 0.0], PeriodicSite: Zr (3.061, 3.061, 3.061) [0.5, 0.5, 0.5], PeriodicSite: Zr (0.0, 0.0, 3.061) [0.0, 0.0, 0.5], PeriodicSite: Zr (4.923e-16, 3.061, 1.875e-16) [0.0, 0.5, 0.0], PeriodicSite: Fe (1.531, 1.531, 4.592) [0.25, 0.25, 0.75], PeriodicSite: Fe (1.531, 4.592, 1.531) [0.25, 0.75, 0.25], PeriodicSite: Fe (4.592, 1.531, 1.531) [0.75, 0.25, 0.25], PeriodicSite: Fe (4.592, 4.592, 4.592) [0.75, 0.75, 0.75], PeriodicSite: Te (0.0, 0.0, 0.0) [0.0, 0.0, 0.0], PeriodicSite: Te (4.923e-16, 3.061, 3.061) [0.0, 0.5, 0.5], PeriodicSite: Te (3.061, 0.0, 3.061) [0.5, 0.0, 0.5], PeriodicSite: Te (3.061, 3.061, 3.749e-16) [0.5, 0.5, 0.0]]\n"
     ]
    }
   ],
   "source": [
    "sites = conv_struc.sites  #on obtient les positions des différents atomes dans notre maille conventionelle \n",
    "print(sites)"
   ]
  },
  {
   "cell_type": "markdown",
   "id": "42b3cfbb",
   "metadata": {},
   "source": [
    "# Première opération de symmétrie sur Zr "
   ]
  },
  {
   "cell_type": "markdown",
   "id": "0f70a423",
   "metadata": {},
   "source": [
    "Je définis d'abord la symétrie que je vais effectuer"
   ]
  },
  {
   "cell_type": "code",
   "execution_count": 68,
   "id": "e4776f03",
   "metadata": {},
   "outputs": [
    {
     "name": "stdout",
     "output_type": "stream",
     "text": [
      "Première opération de symétrie:\n",
      "(x, y, z) -> (z, y, x)\n",
      "\n",
      "Matrice de Rotation:\n",
      "[[0. 0. 1.]\n",
      " [0. 1. 0.]\n",
      " [1. 0. 0.]]\n",
      "\n",
      "Vecteur de translation:\n",
      "[0. 0. 0.]\n"
     ]
    }
   ],
   "source": [
    "symm_1 = listeofsym[14]\n",
    "\n",
    "print(\"Première opération de symétrie:\")\n",
    "print(\"(x, y, z) -> (\" + str(symm_1.as_xyz_str())+ \")\")\n",
    "\n",
    "print(\"\\nMatrice de Rotation:\")\n",
    "print(symm_1.rotation_matrix)\n",
    "\n",
    "print(\"\\nVecteur de translation:\")\n",
    "print(symm_1.translation_vector)"
   ]
  },
  {
   "cell_type": "markdown",
   "id": "1e253838",
   "metadata": {},
   "source": [
    "Ensuite je vais regarder l'effet de cette symétrie sur un atome Zr choisi dans la liste sites ci-dessus"
   ]
  },
  {
   "cell_type": "code",
   "execution_count": 69,
   "id": "f58f13c6",
   "metadata": {},
   "outputs": [
    {
     "name": "stdout",
     "output_type": "stream",
     "text": [
      "Coordonnées Zr avant symmétrie :\n",
      "[0.5, 0.0, 0.0]\n",
      "\n",
      "Coordonnées Zr après opération :\n",
      "[0.  0.  0.5]\n"
     ]
    }
   ],
   "source": [
    "print(\"Coordonnées Zr avant symmétrie :\")\n",
    "positioninitiale_1 = [0.5, 0.0, 0.0]\n",
    "print(positioninitiale_1)\n",
    "\n",
    "print(\"\\nCoordonnées Zr après opération :\")\n",
    "#on print la position de l'atome de Zr après l'opération de symmétrie\n",
    "print(symm_1.operate(positioninitiale_1))"
   ]
  },
  {
   "cell_type": "code",
   "execution_count": 135,
   "id": "2fb4578f",
   "metadata": {
    "scrolled": true
   },
   "outputs": [
    {
     "data": {
      "application/vnd.jupyter.widget-view+json": {
       "model_id": "8eb3e5acf57f4ebbae74b7d6319181b0",
       "version_major": 2,
       "version_minor": 0
      },
      "text/plain": [
       "JsmolView(layout=Layout(align_self='stretch', height='400px'))"
      ]
     },
     "metadata": {},
     "output_type": "display_data"
    }
   ],
   "source": [
    "view = quick_view(conv_struc)\n",
    "display(view) \n",
    "#attention on doit faire +1 a chauqe indice de symetrie et d'atome pour la visualisation\n",
    "view.script('draw symop 15 {atomno = 1}')\n"
   ]
  },
  {
   "cell_type": "markdown",
   "id": "aa414498",
   "metadata": {},
   "source": [
    "On observe que cette symétrie est une symmétrie miroir (notée m) par rapport au plan xz"
   ]
  },
  {
   "cell_type": "markdown",
   "id": "298adba4",
   "metadata": {},
   "source": [
    "# Deuxième opération de symmétrie sur Fe"
   ]
  },
  {
   "cell_type": "code",
   "execution_count": 116,
   "id": "b487f101",
   "metadata": {},
   "outputs": [
    {
     "name": "stdout",
     "output_type": "stream",
     "text": [
      "Première opération de symétrie:\n",
      "(x, y, z) -> (y, z, x)\n",
      "\n",
      "Matrice de Rotation:\n",
      "[[0. 1. 0.]\n",
      " [0. 0. 1.]\n",
      " [1. 0. 0.]]\n",
      "\n",
      "Vecteur de translation:\n",
      "[0. 0. 0.]\n"
     ]
    }
   ],
   "source": [
    "symm_2 = listeofsym[20]\n",
    "\n",
    "print(\"Première opération de symétrie:\")\n",
    "print(\"(x, y, z) -> (\" + str(symm_2.as_xyz_str())+ \")\")\n",
    "\n",
    "print(\"\\nMatrice de Rotation:\")\n",
    "print(symm_2.rotation_matrix)\n",
    "\n",
    "print(\"\\nVecteur de translation:\")\n",
    "print(symm_2.translation_vector)\n"
   ]
  },
  {
   "cell_type": "code",
   "execution_count": 117,
   "id": "be2e750f",
   "metadata": {},
   "outputs": [
    {
     "name": "stdout",
     "output_type": "stream",
     "text": [
      "Coordonnées Fe avant symmétrie :\n",
      "[0.25, 0.75, 0.25]\n",
      "\n",
      "Coordonnées Fe après opération :\n",
      "[0.75 0.25 0.25]\n"
     ]
    }
   ],
   "source": [
    "print(\"Coordonnées Fe avant symmétrie :\")\n",
    "positioninitiale_2 = [0.25, 0.75, 0.25]\n",
    "print(positioninitiale_2)\n",
    "\n",
    "print(\"\\nCoordonnées Fe après opération :\")\n",
    "#on print la position de l'atome de Fe après l'opération de symmétrie\n",
    "print(symm_2.operate(positioninitiale_2))"
   ]
  },
  {
   "cell_type": "code",
   "execution_count": 136,
   "id": "7dead109",
   "metadata": {},
   "outputs": [
    {
     "data": {
      "application/vnd.jupyter.widget-view+json": {
       "model_id": "b03088cbb35a4ccf97f49d3b6e47fafa",
       "version_major": 2,
       "version_minor": 0
      },
      "text/plain": [
       "JsmolView(layout=Layout(align_self='stretch', height='400px'))"
      ]
     },
     "metadata": {},
     "output_type": "display_data"
    }
   ],
   "source": [
    "view = quick_view(conv_struc)\n",
    "display(view) \n",
    "view.script('draw symop 21 {atomno = 6}')"
   ]
  },
  {
   "cell_type": "markdown",
   "id": "8784c18c",
   "metadata": {},
   "source": [
    "On observe que cette symétrie est une rotation d'ordre 3 (C3 donc rotation de 2pi/3) avec l'axe qui est parallèle a la  diagonale et passe par (0,0,0)"
   ]
  },
  {
   "cell_type": "markdown",
   "id": "d1b80bd8",
   "metadata": {},
   "source": [
    "# Troisième opération de symmétrie sur Te "
   ]
  },
  {
   "cell_type": "code",
   "execution_count": 130,
   "id": "ef853685",
   "metadata": {},
   "outputs": [
    {
     "name": "stdout",
     "output_type": "stream",
     "text": [
      "Première opération de symétrie:\n",
      "(x, y, z) -> (y, z, -x-y-z)\n",
      "\n",
      "Matrice de Rotation:\n",
      "[[ 0.  1.  0.]\n",
      " [ 0.  0.  1.]\n",
      " [-1. -1. -1.]]\n",
      "\n",
      "Vecteur de translation:\n",
      "[0. 0. 0.]\n"
     ]
    }
   ],
   "source": [
    "symm_3 = listeofsym[2]\n",
    "\n",
    "print(\"Première opération de symétrie:\")\n",
    "print(\"(x, y, z) -> (\" + str(symm_3.as_xyz_str())+ \")\")\n",
    "\n",
    "print(\"\\nMatrice de Rotation:\")\n",
    "print(symm_3.rotation_matrix)\n",
    "\n",
    "print(\"\\nVecteur de translation:\")\n",
    "print(symm_3.translation_vector)"
   ]
  },
  {
   "cell_type": "code",
   "execution_count": 131,
   "id": "dcf64e19",
   "metadata": {},
   "outputs": [
    {
     "name": "stdout",
     "output_type": "stream",
     "text": [
      "Coordonnées Te avant symmétrie :\n",
      "[0.0, 0.5, 0.5]\n",
      "\n",
      "Coordonnées Te après opération :\n",
      "[ 0.5  0.5 -1. ]\n"
     ]
    }
   ],
   "source": [
    "print(\"Coordonnées Te avant symmétrie :\")\n",
    "positioninitiale_3 = [0.0, 0.5, 0.5]\n",
    "print(positioninitiale_3)\n",
    "\n",
    "print(\"\\nCoordonnées Te après opération :\")\n",
    "#on print la position de l'atome de Te après l'opération de symmétrie\n",
    "print(symm_3.operate(positioninitiale_3))"
   ]
  },
  {
   "cell_type": "code",
   "execution_count": 134,
   "id": "2f361f32",
   "metadata": {},
   "outputs": [
    {
     "data": {
      "application/vnd.jupyter.widget-view+json": {
       "model_id": "9124cf4b1d5845aca47c421bb53d52d3",
       "version_major": 2,
       "version_minor": 0
      },
      "text/plain": [
       "JsmolView(layout=Layout(align_self='stretch', height='400px'))"
      ]
     },
     "metadata": {},
     "output_type": "display_data"
    }
   ],
   "source": [
    "view = quick_view(conv_struc)\n",
    "display(view) \n",
    "view.script('draw symop 3 {atomno = 10}')"
   ]
  },
  {
   "cell_type": "markdown",
   "id": "2e97ea0a",
   "metadata": {},
   "source": [
    "On observe que cette symétrie est une symétrie par un axe d'ordre 2 (axe de rotation C2 avec un angle de pi) qui est parallèle et confondu avec le vecteur de base c "
   ]
  }
 ],
 "metadata": {
  "kernelspec": {
   "display_name": "Python 3 (ipykernel)",
   "language": "python",
   "name": "python3"
  },
  "language_info": {
   "codemirror_mode": {
    "name": "ipython",
    "version": 3
   },
   "file_extension": ".py",
   "mimetype": "text/x-python",
   "name": "python",
   "nbconvert_exporter": "python",
   "pygments_lexer": "ipython3",
   "version": "3.9.13"
  }
 },
 "nbformat": 4,
 "nbformat_minor": 5
}
